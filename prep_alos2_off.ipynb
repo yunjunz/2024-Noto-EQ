{
 "cells": [
  {
   "cell_type": "markdown",
   "id": "a0aa11f1-da53-4dd1-863a-038dff422b61",
   "metadata": {},
   "source": [
    "## Prepare ALOS-2 offset measurements"
   ]
  },
  {
   "cell_type": "code",
   "execution_count": 10,
   "id": "d816c5cc-eb56-4b60-a461-aac4f651c9c7",
   "metadata": {},
   "outputs": [
    {
     "name": "stdout",
     "output_type": "stream",
     "text": [
      "Go to directory: /home/yunjunz/data/2024NotoEQ/ALOS2_A121_20220926_20240101/dense_offset\n"
     ]
    }
   ],
   "source": [
    "%matplotlib inline\n",
    "import os\n",
    "import glob\n",
    "import datetime as dt\n",
    "import numpy as np\n",
    "import platform\n",
    "from cartopy import crs as ccrs\n",
    "from matplotlib import pyplot as plt\n",
    "from mintpy.utils import ptime, readfile, writefile, isce_utils, utils as ut, plot as pp\n",
    "from mintpy.cli import geocode, load_data, multilook, smallbaselineApp, view\n",
    "plt.rcParams.update({'font.size': 12})\n",
    "\n",
    "# platform\n",
    "if platform.system() == 'Linux':\n",
    "    proj_dir = os.path.expanduser('~/data/2024NotoEQ')\n",
    "else:\n",
    "    proj_dir = os.path.expanduser('~/data/archives/2024NotoEQ')\n",
    "\n",
    "# dataset\n",
    "ds_name = [\n",
    "    'ALOS2_A121_20220926_20240101_RG',   # 0\n",
    "    'ALOS2_A121_20220926_20240101_AZ',   # 1\n",
    "    'ALOS2_D026_20230606_20240102_RG',   # 2\n",
    "    'ALOS2_D026_20230606_20240102_AZ',   # 3\n",
    "    'ALOS2_A127_20231206_20240103_RG',   # 4\n",
    "    'ALOS2_A127_20231206_20240103_AZ',   # 5\n",
    "    'ALOS2_A128_20230612_20240108_RG',   # 6\n",
    "    'ALOS2_A128_20230612_20240108_AZ',   # 7\n",
    "    'ALOS2_D019_20211019_20240109_RG',   # 8\n",
    "    'ALOS2_D019_20211019_20240109_AZ',   # 9\n",
    "][0]\n",
    "redo = True\n",
    "\n",
    "work_dir = os.path.join(proj_dir, ds_name[:-3], 'dense_offset')\n",
    "os.chdir(work_dir)\n",
    "print('Go to directory:', work_dir)\n",
    "\n",
    "# input files\n",
    "date1, date2 = ptime.yymmdd(ds_name.split('_')[2:4])\n",
    "off_file = f'filt_{date1}-{date2}_denseoffset.off'\n",
    "cov_file = f'{date1}-{date2}_denseoffset.cov'\n",
    "snr_file = f'{date1}-{date2}_denseoffset.snr'\n",
    "\n",
    "# output grid\n",
    "S, N, W, E = 36.7, 37.6, 136.6, 137.45 # 36.57, 37.61, 136.57, 137.50  #\n",
    "\n",
    "# output files\n",
    "geom_file = os.path.join(work_dir, 'inputs/geometryRadar.h5')\n",
    "rdr_file = os.path.join(work_dir, 'offRg.h5' if ds_name.endswith('RG') else 'offAz.h5')\n",
    "geo_file = os.path.join(work_dir, 'geo', 'offRg.geo' if ds_name.endswith('RG') else 'offAz.geo')"
   ]
  },
  {
   "cell_type": "code",
   "execution_count": 11,
   "id": "0f6cdd95-f081-4537-9634-ff55f3309a31",
   "metadata": {},
   "outputs": [],
   "source": [
    "config = {\n",
    "    'ALOS2_A121_20220926_20240101_RG': {'x_step':32, 'y_step':32, 'max_off':5, 'min_snr':5, 'max_std':0.4, 'ymin':1000, 'ymax':2700},\n",
    "    'ALOS2_A121_20220926_20240101_AZ': {'x_step':32, 'y_step':32, 'max_off':6, 'min_snr':6, 'max_std':0.3, 'ymin':1000, 'ymax':2700},\n",
    "    'ALOS2_D026_20230606_20240102_RG': {'x_step':32, 'y_step':32, 'max_off':5, 'min_snr':5, 'max_std':0.4, 'ymin':500,  'ymax':2000},\n",
    "    'ALOS2_D026_20230606_20240102_AZ': {'x_step':32, 'y_step':32, 'max_off':6, 'min_snr':6, 'max_std':0.3, 'ymin':500,  'ymax':2000},\n",
    "    'ALOS2_A127_20231206_20240103_RG': {'x_step':32, 'y_step':32, 'max_off':5, 'min_snr':5, 'max_std':0.4, 'ymin':500,  'ymax':2000},\n",
    "    'ALOS2_A127_20231206_20240103_AZ': {'x_step':32, 'y_step':32, 'max_off':6, 'min_snr':6, 'max_std':0.3, 'ymin':500,  'ymax':2000},\n",
    "    'ALOS2_A128_20230612_20240108_RG': {'x_step':32, 'y_step':32, 'max_off':5, 'min_snr':5, 'max_std':0.4, 'ymin':0,    'ymax':1400},\n",
    "    'ALOS2_A128_20230612_20240108_AZ': {'x_step':32, 'y_step':32, 'max_off':6, 'min_snr':6, 'max_std':0.3, 'ymin':0,    'ymax':1400},\n",
    "    'ALOS2_D019_20211019_20240109_RG': {'x_step':32, 'y_step':32, 'max_off':5, 'min_snr':5, 'max_std':0.4, 'ymin':700,  'ymax':2200},\n",
    "    'ALOS2_D019_20211019_20240109_AZ': {'x_step':32, 'y_step':32, 'max_off':6, 'min_snr':6, 'max_std':0.3, 'ymin':700,  'ymax':2200},\n",
    "}[ds_name]"
   ]
  },
  {
   "cell_type": "code",
   "execution_count": 12,
   "id": "c6866ac9-2e9a-4408-9f22-7c2db22f0c11",
   "metadata": {
    "jupyter": {
     "source_hidden": true
    }
   },
   "outputs": [
    {
     "name": "stdout",
     "output_type": "stream",
     "text": [
      "warm up utils functions.\n"
     ]
    }
   ],
   "source": [
    "# utils functions\n",
    "def read_offset(meta, off_file, cov_file, snr_file, config=None):\n",
    "    # calculate pixel_size (to convert offset unit from pixel to meters)\n",
    "    obs_dir = 'range' if ds_name.endswith('RG') else 'azimuth'\n",
    "    if obs_dir == 'range':\n",
    "        pixel_size = float(meta['RANGE_PIXEL_SIZE']) / int(meta['RLOOKS'])\n",
    "        print('Slant range pixel size: {:.2f} m'.format(pixel_size))\n",
    "    else:\n",
    "        Re, h_sat = float(meta['EARTH_RADIUS']), float(meta['HEIGHT'])\n",
    "        pixel_size = float(meta['AZIMUTH_PIXEL_SIZE']) / int(meta['ALOOKS']) * Re / (Re + h_sat)\n",
    "        print('Ground azimuth pixel size: {:.2f} m'.format(pixel_size))\n",
    "\n",
    "    # read data / attribute\n",
    "    box = None if not config else (0, config['ymin'], int(meta['WIDTH']), config['ymax'])\n",
    "    off     = readfile.read(off_file, box=box, datasetName=f'{obs_dir}Offset')[0] * pixel_size\n",
    "    off_std = readfile.read(cov_file, box=box, datasetName=f'{obs_dir}OffsetStd')[0] ** 0.5 * pixel_size\n",
    "    off_snr = readfile.read(snr_file, box=box)[0]\n",
    "\n",
    "    return off, off_std, off_snr\n",
    "\n",
    "\n",
    "def mask_offset(off, off_std, off_snr, config, water_mask_file=None):\n",
    "    # 1. ignore no-data-value\n",
    "    no_data_value = readfile.get_no_data_value(off_file)\n",
    "    off[off == no_data_value] = np.nan\n",
    "    print(f'# of pixels after removing no-data-value ({no_data_value}): {count(off)} out of {off.size} ({count(off)/off.size*100:.1f}%)')\n",
    "\n",
    "    # 2. ignore water body\n",
    "    if water_mask_file is None:\n",
    "        water_mask_files = [x for x in ['waterMask.rdr.mli', 'inputs/geometryRadar.h5', 'waterMask.rdr'] if os.path.exists(x)]\n",
    "        if len(water_mask_files) > 0:\n",
    "            water_mask_file = water_mask_files[0]\n",
    "        else:\n",
    "            raise FileNotFoundError('NO default water mask file found! Please specify one mannually.')\n",
    "    water_mask = readfile.read(water_mask_file, datasetName='waterMask')[0]\n",
    "    off[water_mask == 0] = np.nan\n",
    "    off_std[water_mask == 0] = np.nan\n",
    "    off_snr[water_mask == 0] = np.nan\n",
    "    print(f'# of pixels after removing water body: {count(off)} out of {off.size} ({count(off)/off.size*100:.1f}%)')\n",
    "    off_raw = np.array(off, dtype=np.float32)\n",
    "\n",
    "    # 3. remove pixels with abnormal offset\n",
    "    off_std[np.isnan(off)] = np.nan\n",
    "    off[np.abs(off) > config['max_off']] = np.nan\n",
    "    print(f'# of pixels after removing offset > {config[\"max_off\"]}: {count(off)} out of {off.size} ({count(off)/off.size*100:.1f}%)')\n",
    "\n",
    "    # 4. remove pixels with low offset SNR\n",
    "    off[np.isnan(off_snr)] = np.nan\n",
    "    flag = off_snr < config['min_snr']    # remove pixels with low SNR value\n",
    "    flag[np.abs(off / off_std) > 3] = 0   # keep   pixels with high off / off_std\n",
    "    flag[off_snr < 1] = 1                 # remove pixels with very low SNR value\n",
    "    off[flag] = np.nan\n",
    "    print(f'# of pixels after removing SNR < {config[\"min_snr\"]}: {count(off)} out of {off.size} ({count(off)/off.size*100:.1f}%)')\n",
    "\n",
    "    # 5. remove pixels with high offset STD\n",
    "    off_std[off_std > config['max_off']/2] = np.nan\n",
    "    off[np.isnan(off_std)] = np.nan\n",
    "    off[off_std > config['max_std']] = np.nan\n",
    "    print(f'# of pixels after removing STD > {config[\"max_std\"]}: {count(off)} out of {off.size} ({count(off)/off.size*100:.1f}%)')\n",
    "\n",
    "    return off, off_std, off_snr, off_raw\n",
    "\n",
    "\n",
    "def count(data):\n",
    "    \"\"\"Count the number of valid pixels\"\"\"\n",
    "    return np.sum(~np.isnan(data))\n",
    "\n",
    "\n",
    "print('warm up utils functions.')"
   ]
  },
  {
   "cell_type": "markdown",
   "id": "59bbd8f5-b591-4dc8-801e-518077b13b52",
   "metadata": {},
   "source": [
    "### Prepare geometry files [on kunlun]"
   ]
  },
  {
   "cell_type": "code",
   "execution_count": 13,
   "id": "df2084c2-4738-46ea-832d-3e85e63b2782",
   "metadata": {},
   "outputs": [
    {
     "name": "stdout",
     "output_type": "stream",
     "text": [
      "input wbd file: ./wbd.rdr.mli\n",
      "read ./wbd.rdr.mli\n",
      "create initial mask with the same size as the input file and all = 1\n",
      "all pixels with nan value = 0\n",
      "exclude pixels with value > 0.5\n",
      "write file: ./waterMask.rdr.mli\n",
      "write file: ./waterMask.rdr.mli.rsc\n",
      "time used: 00 mins 0.1 secs.\n"
     ]
    }
   ],
   "source": [
    "# multilook into the same grid as offset files\n",
    "for fbase in ['hgt', 'lat', 'lon', 'los', 'wbd']:\n",
    "    #os.makedirs('./geom', exist_ok=True)\n",
    "    out_file = f'./{fbase}.rdr.mli'\n",
    "    if not os.path.exists(out_file):\n",
    "        multilook.main(f'{fbase}.rdr.vrt -x {config[\"x_step\"]} -y {config[\"y_step\"]} -o {out_file} --off-file {off_file}'.split())\n",
    "\n",
    "# convert water body into water mask [for mintpy]\n",
    "!generate_mask.py ./wbd.rdr.mli --max 0.5 -o ./waterMask.rdr.mli"
   ]
  },
  {
   "cell_type": "markdown",
   "id": "2db8be0d-5d25-47fe-b4ed-b54207f45eb9",
   "metadata": {},
   "source": [
    "Prepare metadata and load into HDF5/MintPy format."
   ]
  },
  {
   "cell_type": "code",
   "execution_count": 14,
   "id": "5252fa10-33f0-436a-b888-91ed8b2e5510",
   "metadata": {},
   "outputs": [
    {
     "name": "stdout",
     "output_type": "stream",
     "text": [
      "write MintPy configuration to file: /home/yunjunz/data/2024NotoEQ/ALOS2_A121_20220926_20240101/dense_offset/ALOS2_A121.txt\n",
      "--------------------------------------------------\n",
      "Project name: ALOS2_A121\n",
      "Go to work directory: /panda/yunjunz/2024NotoEQ/ALOS2_A121_20220926_20240101/dense_offset\n",
      "read custom template file: /home/yunjunz/data/2024NotoEQ/ALOS2_A121_20220926_20240101/dense_offset/ALOS2_A121.txt\n",
      "update default template based on input custom template\n",
      "No new option value found, skip updating /panda/yunjunz/2024NotoEQ/ALOS2_A121_20220926_20240101/dense_offset/smallbaselineApp.cfg\n",
      "copy ALOS2_A121.txt       to inputs   directory for backup.\n",
      "copy ALOS2_A121.txt       to pic      directory for backup.\n",
      "read default template file: /panda/yunjunz/2024NotoEQ/ALOS2_A121_20220926_20240101/dense_offset/smallbaselineApp.cfg\n",
      "Go back to directory: /panda/yunjunz/2024NotoEQ/ALOS2_A121_20220926_20240101/dense_offset\n",
      "\n",
      "################################################\n",
      "   Normal end of smallbaselineApp processing!\n",
      "################################################\n",
      "Time used: 00 mins 0.1 secs\n",
      "\n",
      "processor : isce\n",
      "SAR platform/sensor : unknown from project name \"None\"\n",
      "--------------------------------------------------\n",
      "prepare metadata files for isce products\n",
      "prep_isce.py -m ../240101.track.xml -g /panda/yunjunz/2024NotoEQ/ALOS2_A121_20220926_20240101/dense_offset --geom-files hgt.rdr.mli lat.rdr.mli lon.rdr.mli los.rdr.mli los.rdr.mli waterMask.rdr.mli\n",
      "['../data.rsc'] exists and is newer than ['../240101.track.xml'] --> skip.\n",
      "preparing RSC file for geometry files\n",
      "write file: /panda/yunjunz/2024NotoEQ/ALOS2_A121_20220926_20240101/dense_offset/waterMask.rdr.mli.rsc\n",
      "preparing RSC file for: ./merged/interferograms/*/filt_*.unw\n",
      "--------------------------------------------------\n",
      "updateMode : True\n",
      "compression: None\n",
      "multilook x/ystep: 1/1\n",
      "multilook method : nearest\n",
      "--------------------------------------------------\n",
      "searching geometry files info\n",
      "input data files:\n",
      "height          : ./hgt.rdr.mli\n",
      "latitude        : ./lat.rdr.mli\n",
      "longitude       : ./lon.rdr.mli\n",
      "incidenceAngle  : ./los.rdr.mli\n",
      "azimuthAngle    : ./los.rdr.mli\n",
      "waterMask       : ./waterMask.rdr.mli\n"
     ]
    },
    {
     "name": "stderr",
     "output_type": "stream",
     "text": [
      "/home/yunjunz/tools/MintPy/src/mintpy/load_data.py:707: UserWarning: prep_isce.py failed. Assuming its result exists and continue...\n",
      "  warnings.warn('prep_isce.py failed. Assuming its result exists and continue...')\n"
     ]
    },
    {
     "name": "stdout",
     "output_type": "stream",
     "text": [
      "All datasets exists in file geometryRadar.h5 with same size as required, no need to re-load.\n",
      "time used: 00 mins 0.5 secs.\n",
      "\n"
     ]
    }
   ],
   "source": [
    "# write geometry HDF5 file\n",
    "config_str = f\"\"\"# vim: set filetype=cfg:\n",
    "########## 1. Load Data (--load to exit after this step)\n",
    "## load_data.py -H to check more details and example inputs.\n",
    "mintpy.load.processor        = isce\n",
    "##---------for ISCE only:\n",
    "mintpy.load.metaFile         = ../{date2}.track.xml\n",
    "mintpy.load.baselineDir      = None\n",
    "##---------geometry datasets:\n",
    "mintpy.load.demFile          = ./hgt.rdr.mli\n",
    "mintpy.load.lookupYFile      = ./lat.rdr.mli\n",
    "mintpy.load.lookupXFile      = ./lon.rdr.mli\n",
    "mintpy.load.incAngleFile     = ./los.rdr.mli\n",
    "mintpy.load.azAngleFile      = ./los.rdr.mli\n",
    "mintpy.load.waterMaskFile    = ./waterMask.rdr.mli\n",
    "\"\"\"\n",
    "sname, oname = ds_name.split('_')[:2]\n",
    "config_file = os.path.join(work_dir, f'{sname}_{oname}.txt')\n",
    "print('write MintPy configuration to file: {}'.format(config_file))\n",
    "with open(config_file, \"w\") as fid:\n",
    "    fid.write(config_str)\n",
    "smallbaselineApp.main(f'{config_file} -g'.split())\n",
    "# write geometryRadar.h5\n",
    "load_data.main(f'-t smallbaselineApp.cfg --geom'.split())"
   ]
  },
  {
   "cell_type": "code",
   "execution_count": 15,
   "id": "bf809ecb-b9e7-48fe-ac2d-7d6886b06253",
   "metadata": {},
   "outputs": [
    {
     "name": "stdout",
     "output_type": "stream",
     "text": [
      "y/x step: 58.5 / 85.3 m\n",
      "y/x step [from 60 m]: 0.00055556, 0.00065825 deg\n"
     ]
    }
   ],
   "source": [
    "# grab the spatial resolution in meters\n",
    "meta = readfile.read_attribute(geom_file)\n",
    "inc_angle_c = float(meta['CENTER_INCIDENCE_ANGLE'])\n",
    "ystep_m = ut.azimuth_ground_resolution(meta)\n",
    "xstep_m = ut.range_ground_resolution(meta)\n",
    "print(f'y/x step: {ystep_m:.1f} / {xstep_m:.1f} m')\n",
    "\n",
    "# set to the nearest common integer value\n",
    "step_m = 60 # m, 150 or 60\n",
    "\n",
    "# convert from meters to degrees\n",
    "ystep_d = step_m / 108e3\n",
    "xstep_d = step_m / (108e3 * np.cos(np.deg2rad(inc_angle_c)))\n",
    "print(f'y/x step [from {step_m} m]: {ystep_d:.8f}, {xstep_d:.8f} deg')"
   ]
  },
  {
   "cell_type": "markdown",
   "id": "16f41df3-0618-4ff4-a4c3-69d69cd7de89",
   "metadata": {},
   "source": [
    "### Mask\n",
    "\n",
    "+ convert the displacement unit from pixel to meters\n",
    "+ mask the noisy pixels in the offset estimation based on SNR and STD"
   ]
  },
  {
   "cell_type": "code",
   "execution_count": null,
   "id": "09eb40c0-0e21-41cc-b90a-fad5a8b8a7c2",
   "metadata": {},
   "outputs": [
    {
     "name": "stdout",
     "output_type": "stream",
     "text": [
      "Slant range pixel size: 1.43 m\n",
      "# of pixels after removing no-data-value (0.0): 1204146 out of 2032758 (59.2%)\n",
      "# of pixels after removing water body: 1187112 out of 2032758 (58.4%)\n",
      "# of pixels after removing offset > 5: 1187051 out of 2032758 (58.4%)\n",
      "# of pixels after removing SNR < 5: 622580 out of 2032758 (30.6%)\n",
      "# of pixels after removing STD > 0.4: 596951 out of 2032758 (29.4%)\n",
      "create HDF5 file: /home/yunjunz/data/2024NotoEQ/ALOS2_A121_20220926_20240101/dense_offset/offRg.h5 with w mode\n"
     ]
    }
   ],
   "source": [
    "off, off_std, off_snr = read_offset(meta, off_file, cov_file, snr_file)\n",
    "off, off_std, off_snr, off_raw = mask_offset(off, off_std, off_snr, config)\n",
    "\n",
    "# write to one HDF5 files\n",
    "meta['FILE_TYPE'] = 'displacement'\n",
    "meta['ORBIT_DIRECTION'] = 'ASCENDING' if ds_name.split('_')[1].startswith('A') else 'DESCENDING'\n",
    "if redo or not os.path.isfile(rdr_file):\n",
    "    ds_dict      = {'displacement' : np.array(off, dtype=np.float32), 'displacementStd' : np.array(off_std, dtype=np.float32)}\n",
    "    ds_unit_dict = {'displacement' : 'm', 'displacementStd' : 'm'}\n",
    "    writefile.write(ds_dict, out_file=rdr_file, metadata=meta, ds_unit_dict=ds_unit_dict, compression='lzf', print_msg=False)\n",
    "\n",
    "# plot\n",
    "%matplotlib widget\n",
    "fig, axs = plt.subplots(nrows=2, ncols=2, figsize=[8, 10], sharex=True, sharey=True)\n",
    "for ax, data, [vmin, vmax], cmap, title in zip(axs.flatten(), [off_raw, off, off_std, off_snr], [[-4, 4], [-4, 4], [0, config['max_std']], [2, config['min_snr']+1]], ['RdBu', 'RdBu', 'RdBu_r', 'RdBu'], ['offset raw', 'offset', 'offset STD', 'offset SNR']):\n",
    "    im = ax.imshow(data[config['ymin']:config['ymax']], cmap=cmap, vmin=vmin, vmax=vmax, interpolation='nearest'); fig.colorbar(im, ax=ax, aspect=50); pp.auto_flip_direction(meta, ax, print_msg=False); ax.set_title(title)\n",
    "fig.tight_layout()\n",
    "plt.show()"
   ]
  },
  {
   "cell_type": "markdown",
   "id": "3ec9d171-f2d9-4b89-9180-f9cfca19f48c",
   "metadata": {},
   "source": [
    "### Geocode"
   ]
  },
  {
   "cell_type": "code",
   "execution_count": null,
   "id": "58fb330a-0508-4e4d-9958-57696e86ffc6",
   "metadata": {},
   "outputs": [],
   "source": [
    "opt = f'-l {geom_file} --fill nan --bbox {S} {N} {W} {E} --lalo -{ystep_d} {xstep_d}'\n",
    "fbase = os.path.join(os.path.dirname(rdr_file), 'geo', os.path.basename(rdr_file)[:-3])\n",
    "io_files = [\n",
    "    [rdr_file, '--dset displacement',    f'{fbase}.geo'],      # offset\n",
    "    [rdr_file, '--dset displacementStd', f'{fbase}Std.geo'],   # offset STD\n",
    "    ['los.rdr.mli', '', './geo/los.geo'],                       # offset geometry\n",
    "]\n",
    "os.makedirs('./geo', exist_ok=True)\n",
    "for ifile, dset, ofile in io_files:\n",
    "    if redo or not os.path.isfile(ofile):\n",
    "        cmd = f'{ifile} {dset} -o {ofile} {opt}'\n",
    "        print(f'geocode.py {cmd}')\n",
    "        geocode.main(cmd.split())\n",
    "        meta['BANDS'] = 1\n",
    "        writefile.write_isce_xml(meta, fname=ofile)\n",
    "\n",
    "# plot\n",
    "%matplotlib inline\n",
    "view.main(f'{fbase}.geo -c RdBu --noverbose'.split())"
   ]
  },
  {
   "cell_type": "markdown",
   "id": "f8548e19-6e37-420a-b75e-d8cafc945e11",
   "metadata": {},
   "source": [
    "### Final plot"
   ]
  },
  {
   "cell_type": "code",
   "execution_count": null,
   "id": "143c23c1-3839-4907-bb09-d9f79e63ccaf",
   "metadata": {},
   "outputs": [],
   "source": [
    "%matplotlib inline\n",
    "dem_file = os.path.join(proj_dir, 'DEM/elevation.dem')\n",
    "out_file = os.path.join(proj_dir, f'notebooks/pic/{ds_name}.png')\n",
    "cmd = f'{geo_file} --dem {dem_file} --dem-nocontour --shade-exag 0.05 '\n",
    "cmd += f'-c RdBu -v -3 3 --lalo-label --lalo-step 0.5 --cbar-nbins 5 --scalebar 0.15 0.90 0.05 --title {ds_name} --ylabel-rot 90 '\n",
    "cmd += f'-o {out_file} '\n",
    "view.main(cmd.split())"
   ]
  },
  {
   "cell_type": "code",
   "execution_count": null,
   "id": "6a447388-63fe-4a52-8a7a-111c5ac27a96",
   "metadata": {},
   "outputs": [],
   "source": []
  }
 ],
 "metadata": {
  "kernelspec": {
   "display_name": "Python 3 (ipykernel)",
   "language": "python",
   "name": "python3"
  },
  "language_info": {
   "codemirror_mode": {
    "name": "ipython",
    "version": 3
   },
   "file_extension": ".py",
   "mimetype": "text/x-python",
   "name": "python",
   "nbconvert_exporter": "python",
   "pygments_lexer": "ipython3",
   "version": "3.11.6"
  }
 },
 "nbformat": 4,
 "nbformat_minor": 5
}
