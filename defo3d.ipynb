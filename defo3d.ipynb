{
 "cells": [
  {
   "cell_type": "code",
   "execution_count": 5,
   "id": "0797f038-f9af-4959-be79-850fdcf6454c",
   "metadata": {},
   "outputs": [
    {
     "name": "stdout",
     "output_type": "stream",
     "text": [
      "Go to directory: /home/yunjunz/data/2024NotoEQ/data\n"
     ]
    }
   ],
   "source": [
    "%matplotlib inline\n",
    "import os\n",
    "import numpy as np\n",
    "import platform\n",
    "from matplotlib import pyplot as plt\n",
    "from cartopy import crs as ccrs\n",
    "from scipy import linalg\n",
    "from skimage.transform import resize\n",
    "from mintpy.utils import ptime, readfile, writefile, plot as pp, utils as ut\n",
    "from mintpy.asc_desc2horz_vert import get_design_matrix4east_north_up\n",
    "from mintpy.ifgram_inversion import skip_invalid_obs\n",
    "from mintpy.cli import view, image_stitch, save_gdal\n",
    "from mintpy.view import prep_slice, plot_slice\n",
    "plt.rcParams.update({'font.size': 12})\n",
    "\n",
    "# platform\n",
    "if platform.system() == 'Linux':\n",
    "    proj_dir = os.path.expanduser('~/data/2024NotoEQ')\n",
    "else:\n",
    "    proj_dir = os.path.expanduser('~/data/archives/2024NotoEQ')\n",
    "\n",
    "work_dir = os.path.join(proj_dir, 'data')\n",
    "os.chdir(work_dir)\n",
    "print('Go to directory:', work_dir)\n",
    "\n",
    "# output grid\n",
    "S, N, W, E = 36.7, 37.6, 136.6, 137.45\n",
    "ref_lat, ref_lon = 36.83, 137.01\n",
    "\n",
    "# output\n",
    "dis_enu_file = os.path.join(work_dir, 'defo3d/dis_enu.h5')\n",
    "dis_enu_std_file = os.path.join(work_dir, 'defo3d/dis_enu_std.h5')"
   ]
  },
  {
   "cell_type": "markdown",
   "id": "e6e210c8-1eca-4334-acab-204a16607651",
   "metadata": {},
   "source": [
    "### 1. Read displacement and geometry"
   ]
  },
  {
   "cell_type": "code",
   "execution_count": 6,
   "id": "235eb41f-d238-4697-845e-bbc714cc4947",
   "metadata": {},
   "outputs": [],
   "source": [
    "# inputs\n",
    "# ALL files MUST be geocoded into the same bounding box (SNWE)\n",
    "# The 1st file is used as the grid size reference for the output\n",
    "dis_files = [\n",
    "    os.path.join(work_dir, 'ALOS2_A121_20220926_20240101/dense_offset/geo/offRg.geo'),\n",
    "    os.path.join(work_dir, 'ALOS2_D026_20230606_20240102/dense_offset/geo/offRg.geo'),\n",
    "    os.path.join(work_dir, 'ALOS2_A127_20231206_20240103/dense_offset/geo/offRg.geo'),\n",
    "    os.path.join(work_dir, 'ALOS2_A128_20230612_20240108/dense_offset/geo/offRg.geo'),\n",
    "    os.path.join(work_dir, 'ALOS2_D019_20211019_20240109/dense_offset/geo/offRg.geo'),\n",
    "]\n",
    "dis_std_files = [\n",
    "    os.path.join(work_dir, 'ALOS2_A121_20220926_20240101/dense_offset/geo/offRgStd.geo'),\n",
    "    os.path.join(work_dir, 'ALOS2_D026_20230606_20240102/dense_offset/geo/offRgStd.geo'),\n",
    "    os.path.join(work_dir, 'ALOS2_A127_20231206_20240103/dense_offset/geo/offRgStd.geo'),\n",
    "    os.path.join(work_dir, 'ALOS2_A128_20230612_20240108/dense_offset/geo/offRgStd.geo'),\n",
    "    os.path.join(work_dir, 'ALOS2_D019_20211019_20240109/dense_offset/geo/offRgStd.geo'),\n",
    "]\n",
    "enu_files = [os.path.join(os.path.dirname(x), 'enu.geo') for x in dis_files]\n",
    "num_file = len(dis_files)"
   ]
  },
  {
   "cell_type": "markdown",
   "id": "92bd80e5-667c-4c43-8368-43df755f70bd",
   "metadata": {},
   "source": [
    "### 2. Estimate 3D displacement field"
   ]
  },
  {
   "cell_type": "code",
   "execution_count": null,
   "id": "a1743cdd-8247-427c-a858-39f7651812f2",
   "metadata": {},
   "outputs": [],
   "source": [
    "def estimate_enu_displacement(dis_los, dis_los_std, G, weight=False):\n",
    "\n",
    "    dis_los = dis_los.reshape(G.shape[0], -1)\n",
    "    dis_los_std = dis_los_std.reshape(G.shape[0], -1)\n",
    "\n",
    "    # initial output value\n",
    "    dis_enu     = np.full(3, np.nan, dtype=np.float32)\n",
    "    dis_enu_std = np.full(3, np.nan, dtype=np.float32)\n",
    "\n",
    "    # skip pixels with none in all files\n",
    "    if np.all(np.isnan(dis_los)):\n",
    "        return dis_enu, dis_enu_std\n",
    "\n",
    "    # skip invalid observations in some files\n",
    "    dis_los, [G, dis_los_std] = skip_invalid_obs(dis_los, mat_list=[G, dis_los_std])\n",
    "\n",
    "    # invert\n",
    "    if weight:\n",
    "        w_sqrt = 1. / dis_los_std\n",
    "        X, e2 = linalg.lstsq(np.multiply(G, w_sqrt), np.multiply(dis_los, w_sqrt), cond=1e-5)[:2]\n",
    "    else:\n",
    "        X, e2 = linalg.lstsq(G, dis_los, cond=1e-5)[:2]\n",
    "\n",
    "    if e2.size != 0:\n",
    "        dis_enu = X.flatten()\n",
    "\n",
    "        # calculate inversion quality\n",
    "        Gplus = linalg.pinv(G)\n",
    "        dis_los_cov = np.diag(np.square(dis_los_std.flatten()))\n",
    "        dis_enu_cov = np.linalg.multi_dot([Gplus, dis_los_cov, Gplus.T])\n",
    "        dis_enu_std = np.sqrt(np.diag(dis_enu_cov))\n",
    "\n",
    "    return dis_enu, dis_enu_std"
   ]
  },
  {
   "cell_type": "code",
   "execution_count": null,
   "id": "4172dd52-ebe9-40a8-9f8b-3ab2af13175d",
   "metadata": {},
   "outputs": [],
   "source": []
  },
  {
   "cell_type": "code",
   "execution_count": null,
   "id": "620d7669-c7c1-4f56-82b8-d71b14c5ee88",
   "metadata": {},
   "outputs": [],
   "source": []
  },
  {
   "cell_type": "code",
   "execution_count": null,
   "id": "8f902cd1-04ee-46d3-8fc0-cc742a3b81a1",
   "metadata": {},
   "outputs": [],
   "source": []
  },
  {
   "cell_type": "code",
   "execution_count": null,
   "id": "2b137220-70c2-4677-873d-24d4aff9ea5e",
   "metadata": {},
   "outputs": [],
   "source": []
  },
  {
   "cell_type": "markdown",
   "id": "7555552a-161b-465b-8c1b-2411ad73dcb6",
   "metadata": {},
   "source": [
    "### 3. Plot"
   ]
  },
  {
   "cell_type": "code",
   "execution_count": null,
   "id": "070024f7-e07e-4d86-b8a8-75a6acfbd705",
   "metadata": {},
   "outputs": [],
   "source": []
  },
  {
   "cell_type": "code",
   "execution_count": null,
   "id": "77709e0b-3d8d-4694-ad2f-c315ea5bdc69",
   "metadata": {},
   "outputs": [],
   "source": []
  }
 ],
 "metadata": {
  "kernelspec": {
   "display_name": "Python 3 (ipykernel)",
   "language": "python",
   "name": "python3"
  },
  "language_info": {
   "codemirror_mode": {
    "name": "ipython",
    "version": 3
   },
   "file_extension": ".py",
   "mimetype": "text/x-python",
   "name": "python",
   "nbconvert_exporter": "python",
   "pygments_lexer": "ipython3",
   "version": "3.11.6"
  }
 },
 "nbformat": 4,
 "nbformat_minor": 5
}
